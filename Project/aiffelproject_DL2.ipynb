{
 "cells": [
  {
   "cell_type": "markdown",
   "id": "45f70611",
   "metadata": {},
   "source": [
    "## reuters 뉴스기사 주제분류(다중클래스분류)"
   ]
  },
  {
   "cell_type": "code",
   "execution_count": 1,
   "id": "267be832",
   "metadata": {},
   "outputs": [],
   "source": [
    "#라이브러리 불러오기\n",
    "import numpy as np\n",
    "import matplotlib.pyplot as plt\n",
    "from sklearn.model_selection import train_test_split\n",
    "\n",
    "from tensorflow.keras import models, layers\n",
    "from tensorflow.keras import callbacks\n",
    "from tensorflow.keras import utils\n",
    "from keras.datasets import reuters"
   ]
  },
  {
   "cell_type": "code",
   "execution_count": 2,
   "id": "e31dd41e",
   "metadata": {},
   "outputs": [
    {
     "name": "stdout",
     "output_type": "stream",
     "text": [
      "6736\n",
      "2246\n",
      "2246\n",
      "46\n"
     ]
    }
   ],
   "source": [
    "#reuters 데이터셋을 로드하고, 훈련 데이터셋에서 25%를 검증 데이터셋으로 분리합니다.\n",
    "(train_data,train_labels),(test_data,test_labels)=reuters.load_data(num_words=10000)\n",
    "train_data,val_data,train_labels,val_labels = train_test_split(train_data, train_labels, test_size = 0.25, random_state=42)\n",
    "# 훈련, 검증, 테스트 데이터와 레이블 종류가 몇 개인지 출력합니다.\n",
    "print(len(train_data))\n",
    "print(len(val_data))\n",
    "print(len(test_data))\n",
    "print(len(set(train_labels)))"
   ]
  },
  {
   "cell_type": "code",
   "execution_count": 4,
   "id": "7b948967",
   "metadata": {},
   "outputs": [],
   "source": [
    "# 문제 2-2: 텍스트 데이터의 전처리를 위해서 각 데이터셋마다 원-핫 인코딩을 수행합니다.(범주형데이터기때문에 수치형데이터로 변환작업)\n",
    "def one_hot_encoding(data, num_words=10000):#단어의 개수는 10000개로 제한합니다\n",
    "    results = np.zeros((len(data), num_words))#one_hot_encoding함수는 크기가 (데이터개수,차원의수)인 2차원 배열을 생성하고, 이 배열의 모든 원소를 0으로 초기화한다.\n",
    "    for i, d in enumerate(data):#enumerate함수를 통해 데이터에 인덱스같이 가져온다.\n",
    "      results[i, d] = 1.#각 데이터포인트(d)에 해당클래스만 1로 나타내고 나머지는 0으로 둔다.\n",
    "    return results # 원핫인코딩된 배열을 반환한다.\n",
    "\n",
    "x_train = one_hot_encoding(train_data)\n",
    "x_val = one_hot_encoding(val_data)\n",
    "x_test = one_hot_encoding(test_data)\n",
    "\n",
    "# 레이블 데이터들은 범주형 형태로 to_categorical() 함수를 사용해 변환합니다.\n",
    "y_train = utils.to_categorical(train_labels)\n",
    "y_val = utils.to_categorical(val_labels)\n",
    "y_test = utils.to_categorical(test_labels)"
   ]
  },
  {
   "cell_type": "code",
   "execution_count": 7,
   "id": "73132c34",
   "metadata": {},
   "outputs": [
    {
     "name": "stdout",
     "output_type": "stream",
     "text": [
      "Model: \"sequential_2\"\n",
      "_________________________________________________________________\n",
      "Layer (type)                 Output Shape              Param #   \n",
      "=================================================================\n",
      "dense_6 (Dense)              (None, 128)               1280128   \n",
      "_________________________________________________________________\n",
      "batch_normalization_4 (Batch (None, 128)               512       \n",
      "_________________________________________________________________\n",
      "activation_3 (Activation)    (None, 128)               0         \n",
      "_________________________________________________________________\n",
      "dense_7 (Dense)              (None, 64)                8256      \n",
      "_________________________________________________________________\n",
      "batch_normalization_5 (Batch (None, 64)                256       \n",
      "_________________________________________________________________\n",
      "activation_4 (Activation)    (None, 64)                0         \n",
      "_________________________________________________________________\n",
      "dense_8 (Dense)              (None, 64)                4160      \n",
      "_________________________________________________________________\n",
      "dropout_1 (Dropout)          (None, 64)                0         \n",
      "_________________________________________________________________\n",
      "dense_9 (Dense)              (None, 46)                2990      \n",
      "=================================================================\n",
      "Total params: 1,296,302\n",
      "Trainable params: 1,295,918\n",
      "Non-trainable params: 384\n",
      "_________________________________________________________________\n"
     ]
    }
   ],
   "source": [
    "#모델구성및 컴파일\n",
    "from tensorflow.keras.layers import BatchNormalization\n",
    "model = models.Sequential()\n",
    "model.add(layers.Dense(128, activation = 'relu', input_shape=(10000,)))\n",
    "model.add(BatchNormalization())\n",
    "model.add(layers.Activation('relu'))\n",
    "model.add(layers.Dense(64, activation = 'relu',  kernel_initializer='he_normal',kernel_regularizer='l2'))#활성화 함수로relu함수를 쓰기때문에he초깃값설정 오버피팅방지규제는 l2규제사용\n",
    "model.add(BatchNormalization())\n",
    "model.add(layers.Activation('relu'))\n",
    "model.add(layers.Dense(64, activation = 'relu',  kernel_initializer='he_normal',kernel_regularizer='l2'))\n",
    "model.add(layers.Dropout(0.5))\n",
    "model.add(layers.Dense(46, activation = 'relu', kernel_initializer='he_normal',kernel_regularizer='l2'))\n",
    "model.summary()"
   ]
  },
  {
   "cell_type": "code",
   "execution_count": 8,
   "id": "7787214a",
   "metadata": {},
   "outputs": [
    {
     "name": "stdout",
     "output_type": "stream",
     "text": [
      "Epoch 1/15\n",
      "211/211 [==============================] - 3s 7ms/step - loss: 8.5500 - accuracy: 0.3656 - val_loss: 6.9430 - val_accuracy: 0.4849\n",
      "Epoch 2/15\n",
      "211/211 [==============================] - 1s 5ms/step - loss: 6.5911 - accuracy: 0.5156 - val_loss: 5.8541 - val_accuracy: 0.5784\n",
      "Epoch 3/15\n",
      "211/211 [==============================] - 1s 5ms/step - loss: 5.7809 - accuracy: 0.5616 - val_loss: 5.3552 - val_accuracy: 0.5971\n",
      "Epoch 4/15\n",
      "211/211 [==============================] - 1s 5ms/step - loss: 5.2592 - accuracy: 0.5926 - val_loss: 4.9714 - val_accuracy: 0.6291\n",
      "Epoch 5/15\n",
      "211/211 [==============================] - 1s 4ms/step - loss: 4.9521 - accuracy: 0.6253 - val_loss: 4.7900 - val_accuracy: 0.6576\n",
      "Epoch 6/15\n",
      "211/211 [==============================] - 1s 5ms/step - loss: 4.4835 - accuracy: 0.6473 - val_loss: 4.3694 - val_accuracy: 0.6656\n",
      "Epoch 7/15\n",
      "211/211 [==============================] - 1s 5ms/step - loss: 4.2473 - accuracy: 0.6663 - val_loss: 4.2644 - val_accuracy: 0.6679\n",
      "Epoch 8/15\n",
      "211/211 [==============================] - 1s 5ms/step - loss: 4.0851 - accuracy: 0.6740 - val_loss: 4.1289 - val_accuracy: 0.6728\n",
      "Epoch 9/15\n",
      "211/211 [==============================] - 1s 5ms/step - loss: 3.9325 - accuracy: 0.6786 - val_loss: 4.0479 - val_accuracy: 0.6808\n",
      "Epoch 10/15\n",
      "211/211 [==============================] - 1s 4ms/step - loss: 3.7849 - accuracy: 0.6920 - val_loss: 3.8952 - val_accuracy: 0.6857\n",
      "Epoch 11/15\n",
      "211/211 [==============================] - 1s 4ms/step - loss: 3.6249 - accuracy: 0.6961 - val_loss: 3.7836 - val_accuracy: 0.6888\n",
      "Epoch 12/15\n",
      "211/211 [==============================] - 1s 5ms/step - loss: 3.4501 - accuracy: 0.7126 - val_loss: 3.8185 - val_accuracy: 0.6937\n",
      "Epoch 13/15\n",
      "211/211 [==============================] - 1s 5ms/step - loss: 3.4200 - accuracy: 0.7243 - val_loss: 3.8732 - val_accuracy: 0.6999\n",
      "Epoch 14/15\n",
      "211/211 [==============================] - 1s 5ms/step - loss: 3.3567 - accuracy: 0.7310 - val_loss: 3.6874 - val_accuracy: 0.6937\n",
      "Epoch 15/15\n",
      "211/211 [==============================] - 1s 5ms/step - loss: 3.2747 - accuracy: 0.7423 - val_loss: 3.6390 - val_accuracy: 0.7097\n"
     ]
    }
   ],
   "source": [
    "from keras.callbacks import EarlyStopping,ModelCheckpoint\n",
    "check_point_cb = callbacks.ModelCheckpoint('keras_mnist_model.h5')\n",
    "early_stopping_cb = callbacks.EarlyStopping(patience=3, monitor='val_loss',\n",
    "                                  restore_best_weights=True)\n",
    "\n",
    "model.compile(optimizer='adam',\n",
    "              loss='categorical_crossentropy',#각 클래스에대한 레이블을 예측해야함\n",
    "              metrics=['accuracy'])#분류문제니 평가지표로 정확도 선택\n",
    "\n",
    "history = model.fit(x_train, y_train, epochs=15,\n",
    "                    validation_data=(x_val, y_val),\n",
    "                    callbacks=[check_point_cb, early_stopping_cb])"
   ]
  },
  {
   "cell_type": "code",
   "execution_count": 9,
   "id": "626530f8",
   "metadata": {},
   "outputs": [
    {
     "data": {
      "image/png": "[encoded data removed]",
      "text/plain": [
       "<Figure size 864x360 with 2 Axes>"
      ]
     },
     "metadata": {},
     "output_type": "display_data"
    }
   ],
   "source": [
    "#시각화\n",
    "plt.style.use('seaborn-white')\n",
    "\n",
    "history_dict = history.history\n",
    "\n",
    "loss = history_dict['loss']\n",
    "val_loss = history_dict['val_loss']\n",
    "\n",
    "epochs = range(1, len(loss) + 1)\n",
    "fig = plt.figure(figsize=(12, 5))\n",
    "\n",
    "ax1 = fig.add_subplot(1, 2, 1)\n",
    "ax1.plot(epochs, loss, 'b-', label='train_loss')\n",
    "ax1.plot(epochs, val_loss, 'r-', label='val_loss')\n",
    "ax1.set_title('Train and Validation Loss')\n",
    "ax1.set_xlabel('Epochs')\n",
    "ax1.set_ylabel('Loss')\n",
    "ax1.grid()\n",
    "ax1.legend()\n",
    "\n",
    "accuracy = history_dict['accuracy']\n",
    "val_accuracy = history_dict['val_accuracy']\n",
    "\n",
    "ax2 = fig.add_subplot(1, 2, 2)\n",
    "ax2.plot(epochs, accuracy, 'b-', label='train_accuracy')\n",
    "ax2.plot(epochs, val_accuracy, 'r-', label='val_accuracy')\n",
    "ax2.set_title('Train and Validation Accuracy')\n",
    "ax2.set_xlabel('Epochs')\n",
    "ax2.set_ylabel('Accuracy')\n",
    "ax2.grid()\n",
    "ax2.legend()\n",
    "\n",
    "plt.show()"
   ]
  },
  {
   "cell_type": "code",
   "execution_count": 10,
   "id": "6008fe22",
   "metadata": {},
   "outputs": [
    {
     "name": "stdout",
     "output_type": "stream",
     "text": [
      "71/71 [==============================] - 0s 2ms/step - loss: 3.8921 - accuracy: 0.6963\n"
     ]
    },
    {
     "data": {
      "text/plain": [
       "[3.8920793533325195, 0.6963490843772888]"
      ]
     },
     "execution_count": 10,
     "metadata": {},
     "output_type": "execute_result"
    }
   ],
   "source": [
    "#모델 평가및 예측\n",
    "model.evaluate(x_test, y_test)"
   ]
  },
  {
   "cell_type": "code",
   "execution_count": null,
   "id": "16a3420a",
   "metadata": {},
   "outputs": [],
   "source": []
  }
 ],
 "metadata": {
  "kernelspec": {
   "display_name": "Python 3 (ipykernel)",
   "language": "python",
   "name": "python3"
  },
  "language_info": {
   "codemirror_mode": {
    "name": "ipython",
    "version": 3
   },
   "file_extension": ".py",
   "mimetype": "text/x-python",
   "name": "python",
   "nbconvert_exporter": "python",
   "pygments_lexer": "ipython3",
   "version": "3.9.7"
  }
 },
 "nbformat": 4,
 "nbformat_minor": 5
}
