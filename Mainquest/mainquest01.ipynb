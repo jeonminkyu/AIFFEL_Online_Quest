{
  "nbformat": 4,
  "nbformat_minor": 0,
  "metadata": {
    "colab": {
      "provenance": [],
      "authorship_tag": "ABX9TyMHfnpZ/ASKiNyq0JBPD+UR",
      "include_colab_link": true
    },
    "kernelspec": {
      "name": "python3",
      "display_name": "Python 3"
    },
    "language_info": {
      "name": "python"
    }
  },
  "cells": [
    {
      "cell_type": "markdown",
      "metadata": {
        "id": "view-in-github",
        "colab_type": "text"
      },
      "source": [
        "<a href=\"https://colab.research.google.com/github/jeonminkyu/AIFFEL_Online_Quest/blob/main/Mainquest/mainquest01.ipynb\" target=\"_parent\"><img src=\"https://colab.research.google.com/assets/colab-badge.svg\" alt=\"Open In Colab\"/></a>"
      ]
    },
    {
      "cell_type": "code",
      "execution_count": 1,
      "metadata": {
        "colab": {
          "base_uri": "https://localhost:8080/",
          "height": 624
        },
        "id": "UxBnTd9AY8JU",
        "outputId": "0ea226ef-c4bc-4246-dee4-302fc958f118"
      },
      "outputs": [
        {
          "output_type": "stream",
          "name": "stdout",
          "text": [
            "예금주명을 입력하세요: 전민규\n",
            "초기잔액을 입력하세요: 10\n",
            "예금주: 전민규 잔액: 10 계좌번호: 141-76-790595\n",
            "입금금액을 입력해주세요 :50\n",
            "50원 입금되셨습니다\n",
            "출금금액을 입력해주세요 :30\n",
            "30원 출금되셨습니다\n",
            "은행이름: SC은행, 예금주: 전민규, 계좌번호: 141-76-790595, 잔고: 50원\n",
            "전민규님의 입금 내역:\n",
            "50원\n",
            "전민규님의 출금 내역:\n",
            "30원\n"
          ]
        },
        {
          "output_type": "error",
          "ename": "KeyboardInterrupt",
          "evalue": "ignored",
          "traceback": [
            "\u001b[0;31m---------------------------------------------------------------------------\u001b[0m",
            "\u001b[0;31mKeyboardInterrupt\u001b[0m                         Traceback (most recent call last)",
            "\u001b[0;32m<ipython-input-1-786a2f490319>\u001b[0m in \u001b[0;36m<cell line: 85>\u001b[0;34m()\u001b[0m\n\u001b[1;32m     83\u001b[0m \u001b[0m계좌1\u001b[0m\u001b[0;34m.\u001b[0m\u001b[0mwithdraw_history\u001b[0m\u001b[0;34m(\u001b[0m\u001b[0;34m)\u001b[0m\u001b[0;34m\u001b[0m\u001b[0;34m\u001b[0m\u001b[0m\n\u001b[1;32m     84\u001b[0m \u001b[0;34m\u001b[0m\u001b[0m\n\u001b[0;32m---> 85\u001b[0;31m \u001b[0m계좌2\u001b[0m \u001b[0;34m=\u001b[0m \u001b[0mAccount\u001b[0m\u001b[0;34m(\u001b[0m\u001b[0;34m)\u001b[0m\u001b[0;34m\u001b[0m\u001b[0;34m\u001b[0m\u001b[0m\n\u001b[0m\u001b[1;32m     86\u001b[0m \u001b[0m계좌2\u001b[0m\u001b[0;34m.\u001b[0m\u001b[0mmade\u001b[0m\u001b[0;34m(\u001b[0m\u001b[0;34m)\u001b[0m\u001b[0;34m\u001b[0m\u001b[0;34m\u001b[0m\u001b[0m\n\u001b[1;32m     87\u001b[0m \u001b[0m계좌2\u001b[0m\u001b[0;34m.\u001b[0m\u001b[0mdeposit\u001b[0m\u001b[0;34m(\u001b[0m\u001b[0;34m)\u001b[0m\u001b[0;34m\u001b[0m\u001b[0;34m\u001b[0m\u001b[0m\n",
            "\u001b[0;32m<ipython-input-1-786a2f490319>\u001b[0m in \u001b[0;36m__init__\u001b[0;34m(self)\u001b[0m\n\u001b[1;32m      7\u001b[0m     \u001b[0;32mdef\u001b[0m \u001b[0m__init__\u001b[0m\u001b[0;34m(\u001b[0m\u001b[0mself\u001b[0m\u001b[0;34m)\u001b[0m\u001b[0;34m:\u001b[0m\u001b[0;34m\u001b[0m\u001b[0;34m\u001b[0m\u001b[0m\n\u001b[1;32m      8\u001b[0m         \u001b[0mself\u001b[0m\u001b[0;34m.\u001b[0m\u001b[0m은행이름\u001b[0m \u001b[0;34m=\u001b[0m \u001b[0;34m'SC은행'\u001b[0m\u001b[0;34m\u001b[0m\u001b[0;34m\u001b[0m\u001b[0m\n\u001b[0;32m----> 9\u001b[0;31m         \u001b[0mself\u001b[0m\u001b[0;34m.\u001b[0m\u001b[0m예금주\u001b[0m \u001b[0;34m=\u001b[0m \u001b[0minput\u001b[0m\u001b[0;34m(\u001b[0m\u001b[0;34m'예금주명을 입력하세요: '\u001b[0m\u001b[0;34m)\u001b[0m\u001b[0;34m\u001b[0m\u001b[0;34m\u001b[0m\u001b[0m\n\u001b[0m\u001b[1;32m     10\u001b[0m         \u001b[0mself\u001b[0m\u001b[0;34m.\u001b[0m\u001b[0m초기잔액\u001b[0m \u001b[0;34m=\u001b[0m \u001b[0mint\u001b[0m\u001b[0;34m(\u001b[0m\u001b[0minput\u001b[0m\u001b[0;34m(\u001b[0m\u001b[0;34m'초기잔액을 입력하세요: '\u001b[0m\u001b[0;34m)\u001b[0m\u001b[0;34m)\u001b[0m\u001b[0;34m\u001b[0m\u001b[0;34m\u001b[0m\u001b[0m\n\u001b[1;32m     11\u001b[0m         \u001b[0mself\u001b[0m\u001b[0;34m.\u001b[0m\u001b[0m입금내역\u001b[0m \u001b[0;34m=\u001b[0m \u001b[0;34m[\u001b[0m\u001b[0;34m]\u001b[0m\u001b[0;34m\u001b[0m\u001b[0;34m\u001b[0m\u001b[0m\n",
            "\u001b[0;32m/usr/local/lib/python3.10/dist-packages/ipykernel/kernelbase.py\u001b[0m in \u001b[0;36mraw_input\u001b[0;34m(self, prompt)\u001b[0m\n\u001b[1;32m    849\u001b[0m                 \u001b[0;34m\"raw_input was called, but this frontend does not support input requests.\"\u001b[0m\u001b[0;34m\u001b[0m\u001b[0;34m\u001b[0m\u001b[0m\n\u001b[1;32m    850\u001b[0m             )\n\u001b[0;32m--> 851\u001b[0;31m         return self._input_request(str(prompt),\n\u001b[0m\u001b[1;32m    852\u001b[0m             \u001b[0mself\u001b[0m\u001b[0;34m.\u001b[0m\u001b[0m_parent_ident\u001b[0m\u001b[0;34m,\u001b[0m\u001b[0;34m\u001b[0m\u001b[0;34m\u001b[0m\u001b[0m\n\u001b[1;32m    853\u001b[0m             \u001b[0mself\u001b[0m\u001b[0;34m.\u001b[0m\u001b[0m_parent_header\u001b[0m\u001b[0;34m,\u001b[0m\u001b[0;34m\u001b[0m\u001b[0;34m\u001b[0m\u001b[0m\n",
            "\u001b[0;32m/usr/local/lib/python3.10/dist-packages/ipykernel/kernelbase.py\u001b[0m in \u001b[0;36m_input_request\u001b[0;34m(self, prompt, ident, parent, password)\u001b[0m\n\u001b[1;32m    893\u001b[0m             \u001b[0;32mexcept\u001b[0m \u001b[0mKeyboardInterrupt\u001b[0m\u001b[0;34m:\u001b[0m\u001b[0;34m\u001b[0m\u001b[0;34m\u001b[0m\u001b[0m\n\u001b[1;32m    894\u001b[0m                 \u001b[0;31m# re-raise KeyboardInterrupt, to truncate traceback\u001b[0m\u001b[0;34m\u001b[0m\u001b[0;34m\u001b[0m\u001b[0m\n\u001b[0;32m--> 895\u001b[0;31m                 \u001b[0;32mraise\u001b[0m \u001b[0mKeyboardInterrupt\u001b[0m\u001b[0;34m(\u001b[0m\u001b[0;34m\"Interrupted by user\"\u001b[0m\u001b[0;34m)\u001b[0m \u001b[0;32mfrom\u001b[0m \u001b[0;32mNone\u001b[0m\u001b[0;34m\u001b[0m\u001b[0;34m\u001b[0m\u001b[0m\n\u001b[0m\u001b[1;32m    896\u001b[0m             \u001b[0;32mexcept\u001b[0m \u001b[0mException\u001b[0m \u001b[0;32mas\u001b[0m \u001b[0me\u001b[0m\u001b[0;34m:\u001b[0m\u001b[0;34m\u001b[0m\u001b[0;34m\u001b[0m\u001b[0m\n\u001b[1;32m    897\u001b[0m                 \u001b[0mself\u001b[0m\u001b[0;34m.\u001b[0m\u001b[0mlog\u001b[0m\u001b[0;34m.\u001b[0m\u001b[0mwarning\u001b[0m\u001b[0;34m(\u001b[0m\u001b[0;34m\"Invalid Message:\"\u001b[0m\u001b[0;34m,\u001b[0m \u001b[0mexc_info\u001b[0m\u001b[0;34m=\u001b[0m\u001b[0;32mTrue\u001b[0m\u001b[0;34m)\u001b[0m\u001b[0;34m\u001b[0m\u001b[0;34m\u001b[0m\u001b[0m\n",
            "\u001b[0;31mKeyboardInterrupt\u001b[0m: Interrupted by user"
          ]
        }
      ],
      "source": [
        "import random\n",
        "class Account:\n",
        "    num = 0 #q2\n",
        "    입금횟수 =0\n",
        "\n",
        "\n",
        "    def __init__(self):\n",
        "        self.은행이름 = 'SC은행'\n",
        "        self.예금주 = input('예금주명을 입력하세요: ')\n",
        "        self.초기잔액 = int(input('초기잔액을 입력하세요: '))\n",
        "        self.입금내역 = []\n",
        "        self.출금내역 = []\n",
        "        # self.계좌번호1 = random.randint(100,999)\n",
        "        # self.계좌번호2 = random.randint(10,99)\n",
        "        # self.계좌번호3 = random.randint(100000,999999)\n",
        "        # self.계좌번호 = f'{self.계좌번호1}-{self.계좌번호2}-{self.계좌번호3}'\n",
        "\n",
        "\n",
        "\n",
        "        Account.num += 1 #q2클래스 변수를 사용해서 계좌개수 저장\n",
        "    def made(self):\n",
        "        self.은행이름 = 'SC은행'\n",
        "        self.계좌번호1 = random.randint(100,999)\n",
        "        self.계좌번호2 = random.randint(10,99)\n",
        "        self.계좌번호3 = random.randint(100000,999999)\n",
        "        self.계좌번호 = f'{self.계좌번호1}-{self.계좌번호2}-{self.계좌번호3}'\n",
        "        print(f'예금주: {self.예금주} 잔액: {self.초기잔액} 계좌번호: {self.계좌번호}')\n",
        "    # q3  계좌 개수출력하는 get_account_num()를 추가\n",
        "    def  get_account_num(self):\n",
        "         print(Account.num)\n",
        "    #q4 입금메서드:Account 클래스에 입금을 위한 deposit메서드\n",
        "    def deposit(self):\n",
        "\n",
        "        self.입금금액 = int(input('입금금액을 입력해주세요 :'))\n",
        "\n",
        "        if self.입금금액<1:\n",
        "            print('입금은 최소 1원 이상만 가능합니다')\n",
        "\n",
        "        else:\n",
        "            self.초기잔액 += self.입금금액\n",
        "            self.입금내역.append(self.입금금액)\n",
        "            print(f'{self.입금금액}원 입금되셨습니다')\n",
        "\n",
        "    #q5 출금메서드:Account 클래스에 출금을 위한 withdraw 메서드\n",
        "    def withdraw(self):\n",
        "        self.출금금액 = int(input('출금금액을 입력해주세요 :'))\n",
        "        if self.출금금액>self.초기잔액:\n",
        "            print('출금은 계좌의 잔고 이상으로 출금할 수는 없습니다')\n",
        "        elif self.출금금액 == 0:\n",
        "            print('출금금액은 없습니다.')\n",
        "        else:\n",
        "            self.초기잔액 -= self.출금금액\n",
        "            self.출금내역.append(self.출금금액)\n",
        "            print(f'{self.출금금액}원 출금되셨습니다')\n",
        "    #q6 정보출력메서드:Account 인스턴스에 저장된 정보를 출력하는 display_info()\n",
        "    # 잔고는 세자리마다 쉼표를 출력하세요.\n",
        "    def display_info(self):\n",
        "        self.잔고 = self.초기잔액+self.입금금액-self.출금금액\n",
        "        self.이자 =(self.잔고*0.01)\n",
        "        Account.입금횟수+=1 #Q7. 이자 지급하기 입금 횟수가 5회가 될 때 잔고를 기준으로 1%의 이자가 잔고에 추가되도록 코드를 변경해보세요,클레스변수 불러오기\n",
        "        if Account.입금횟수 ==5:\n",
        "            self.잔고 +=self.이자\n",
        "        # if self.잔고>999:\n",
        "            print(f'은행이름: {self.은행이름}, 예금주: {self.예금주}, 계좌번호: {self.계좌번호}, 잔고: {self.잔고:,}원')\n",
        "\n",
        "        else: print(f'은행이름: {self.은행이름}, 예금주: {self.예금주}, 계좌번호: {self.계좌번호}, 잔고: {self.잔고:,}원')\n",
        "        #MainQuest Q10. 입출금 내역입금과 출금 내역이 기록되도록 코드를 업데이트 하세요.입금 내역과 출금 내역을 출력하는 deposit_history와 withdraw_history 메서드를 추가하세요.\n",
        "    def deposit_history(self):\n",
        "        print(f'{self.예금주}님의 입금 내역:')\n",
        "        for 금액 in self.입금내역:\n",
        "            print(f'{금액:,}원')\n",
        "    def withdraw_history(self):\n",
        "        print(f'{self.예금주}님의 출금 내역:')\n",
        "        for 금액 in self.출금내역:\n",
        "            print(f'{금액:,}원')\n",
        "\n",
        "\n",
        "계좌1 = Account()\n",
        "계좌1.made()\n",
        "계좌1.deposit()\n",
        "계좌1.withdraw()\n",
        "계좌1.display_info()\n",
        "계좌1.deposit_history()\n",
        "계좌1.withdraw_history()\n",
        "\n",
        "계좌2 = Account()\n",
        "계좌2.made()\n",
        "계좌2.deposit()\n",
        "계좌2.withdraw()\n",
        "계좌2.display_info()\n",
        "계좌2.deposit_history()\n",
        "계좌2.withdraw_history()\n",
        "\n",
        "계좌3 = Account()\n",
        "계좌3.made()\n",
        "계좌3.deposit()\n",
        "계좌3.withdraw()\n",
        "계좌3.display_info()\n",
        "계좌3.deposit_history()\n",
        "계좌3.withdraw_history()\n",
        "계좌리스트= [계좌1,계좌2,계좌3] #Q8. 여러 객체 생성 Account 클래스로부터 3개 이상 인스턴스를 생성하고 생성된 인스턴스를 리스트에 저장해보세요\n",
        "\n",
        "for 계좌 in 계좌리스트:#Q9. 객체 순회 반복문을 통해 리스트에 있는 객체를 순회하면서 잔고가 100만원 이상인 고객의 정보만 출력하세요.\n",
        "    if 계좌.잔고 >= 1000000:\n",
        "        계좌.display_info()\n",
        "        계좌.deposit_history()\n",
        "        계좌.withdraw_history()"
      ]
    }
  ]
}