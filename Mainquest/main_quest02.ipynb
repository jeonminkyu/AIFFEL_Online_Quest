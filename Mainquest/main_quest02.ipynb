{
 "cells": [
  {
   "cell_type": "code",
   "execution_count": 16,
   "metadata": {},
   "outputs": [
    {
     "ename": "TypeError",
     "evalue": "Aiffel.id() takes 1 positional argument but 2 were given",
     "output_type": "error",
     "traceback": [
      "\u001b[1;31m---------------------------------------------------------------------------\u001b[0m",
      "\u001b[1;31mTypeError\u001b[0m                                 Traceback (most recent call last)",
      "\u001b[1;32mc:\\Users\\jbsb1\\OneDrive\\바탕 화면\\coding\\aiffel\\main_quest02.ipynb 셀 1\u001b[0m line \u001b[0;36m1\n\u001b[0;32m     <a href='vscode-notebook-cell:/c%3A/Users/jbsb1/OneDrive/%EB%B0%94%ED%83%95%20%ED%99%94%EB%A9%B4/coding/aiffel/main_quest02.ipynb#W0sZmlsZQ%3D%3D?line=12'>13</a>\u001b[0m         \u001b[39mprint\u001b[39m(\u001b[39mf\u001b[39m\u001b[39m'\u001b[39m\u001b[39m{\u001b[39;00m\u001b[39mself\u001b[39m\u001b[39m.\u001b[39m입학연도\u001b[39m}\u001b[39;00m\u001b[39m{\u001b[39;00m\u001b[39mself\u001b[39m\u001b[39m.\u001b[39m기수\u001b[39m}\u001b[39;00m\u001b[39m{\u001b[39;00m\u001b[39mself\u001b[39m\u001b[39m.\u001b[39m과정명\u001b[39m}\u001b[39;00m\u001b[39m{\u001b[39;00m\u001b[39mself\u001b[39m\u001b[39m.\u001b[39m이름\u001b[39m}\u001b[39;00m\u001b[39m'\u001b[39m)\n\u001b[0;32m     <a href='vscode-notebook-cell:/c%3A/Users/jbsb1/OneDrive/%EB%B0%94%ED%83%95%20%ED%99%94%EB%A9%B4/coding/aiffel/main_quest02.ipynb#W0sZmlsZQ%3D%3D?line=13'>14</a>\u001b[0m dic명단 \u001b[39m=\u001b[39m {\u001b[39m'\u001b[39m\u001b[39m강영현\u001b[39m\u001b[39m'\u001b[39m: \u001b[39m0\u001b[39m, \u001b[39m'\u001b[39m\u001b[39m김경민\u001b[39m\u001b[39m'\u001b[39m:\u001b[39m0\u001b[39m, \u001b[39m'\u001b[39m\u001b[39m김민기\u001b[39m\u001b[39m'\u001b[39m: \u001b[39m0\u001b[39m, \u001b[39m'\u001b[39m\u001b[39m김승순\u001b[39m\u001b[39m'\u001b[39m: \u001b[39m0\u001b[39m, \u001b[39m'\u001b[39m\u001b[39m김양희\u001b[39m\u001b[39m'\u001b[39m: \u001b[39m0\u001b[39m, \u001b[39m'\u001b[39m\u001b[39m김영신\u001b[39m\u001b[39m'\u001b[39m:\u001b[39m0\u001b[39m, \u001b[39m'\u001b[39m\u001b[39m오우진\u001b[39m\u001b[39m'\u001b[39m: \u001b[39m0\u001b[39m, \u001b[39m'\u001b[39m\u001b[39m윤혜윤\u001b[39m\u001b[39m'\u001b[39m: \u001b[39m0\u001b[39m, \u001b[39m'\u001b[39m\u001b[39m이상원\u001b[39m\u001b[39m'\u001b[39m: \u001b[39m0\u001b[39m, \u001b[39m'\u001b[39m\u001b[39m이선재\u001b[39m\u001b[39m'\u001b[39m: \u001b[39m0\u001b[39m, \u001b[39m'\u001b[39m\u001b[39m이슬\u001b[39m\u001b[39m'\u001b[39m: \u001b[39m0\u001b[39m, \u001b[39m'\u001b[39m\u001b[39m이승환\u001b[39m\u001b[39m'\u001b[39m: \u001b[39m0\u001b[39m, \u001b[39m'\u001b[39m\u001b[39m전민규\u001b[39m\u001b[39m'\u001b[39m: \u001b[39m0\u001b[39m, \u001b[39m'\u001b[39m\u001b[39m조보겸\u001b[39m\u001b[39m'\u001b[39m: \u001b[39m0\u001b[39m, \u001b[39m'\u001b[39m\u001b[39m조수민\u001b[39m\u001b[39m'\u001b[39m: \u001b[39m0\u001b[39m, \u001b[39m'\u001b[39m\u001b[39m최강훈\u001b[39m\u001b[39m'\u001b[39m: \u001b[39m0\u001b[39m, \u001b[39m'\u001b[39m\u001b[39m한현종\u001b[39m\u001b[39m'\u001b[39m: \u001b[39m0\u001b[39m,\n\u001b[0;32m     <a href='vscode-notebook-cell:/c%3A/Users/jbsb1/OneDrive/%EB%B0%94%ED%83%95%20%ED%99%94%EB%A9%B4/coding/aiffel/main_quest02.ipynb#W0sZmlsZQ%3D%3D?line=14'>15</a>\u001b[0m \u001b[39m'\u001b[39m\u001b[39m홍채림\u001b[39m\u001b[39m'\u001b[39m: \u001b[39m0\u001b[39m}\n\u001b[1;32m---> <a href='vscode-notebook-cell:/c%3A/Users/jbsb1/OneDrive/%EB%B0%94%ED%83%95%20%ED%99%94%EB%A9%B4/coding/aiffel/main_quest02.ipynb#W0sZmlsZQ%3D%3D?line=16'>17</a>\u001b[0m 학번 \u001b[39m=\u001b[39m Aiffel(dic명단,\u001b[39m'\u001b[39;49m\u001b[39m2023\u001b[39;49m\u001b[39m'\u001b[39;49m,\u001b[39m'\u001b[39;49m\u001b[39m1기\u001b[39;49m\u001b[39m'\u001b[39;49m,\u001b[39minput\u001b[39;49m(\u001b[39m'\u001b[39;49m\u001b[39m코어는1,리서치는2를입력하세요:\u001b[39;49m\u001b[39m'\u001b[39;49m))\n",
      "\u001b[1;32mc:\\Users\\jbsb1\\OneDrive\\바탕 화면\\coding\\aiffel\\main_quest02.ipynb 셀 1\u001b[0m line \u001b[0;36m7\n\u001b[0;32m      <a href='vscode-notebook-cell:/c%3A/Users/jbsb1/OneDrive/%EB%B0%94%ED%83%95%20%ED%99%94%EB%A9%B4/coding/aiffel/main_quest02.ipynb#W0sZmlsZQ%3D%3D?line=4'>5</a>\u001b[0m \u001b[39mself\u001b[39m\u001b[39m.\u001b[39m기수\u001b[39m=\u001b[39m 기수\n\u001b[0;32m      <a href='vscode-notebook-cell:/c%3A/Users/jbsb1/OneDrive/%EB%B0%94%ED%83%95%20%ED%99%94%EB%A9%B4/coding/aiffel/main_quest02.ipynb#W0sZmlsZQ%3D%3D?line=5'>6</a>\u001b[0m \u001b[39mself\u001b[39m\u001b[39m.\u001b[39m과정명 \u001b[39m=\u001b[39m 과정명\n\u001b[1;32m----> <a href='vscode-notebook-cell:/c%3A/Users/jbsb1/OneDrive/%EB%B0%94%ED%83%95%20%ED%99%94%EB%A9%B4/coding/aiffel/main_quest02.ipynb#W0sZmlsZQ%3D%3D?line=6'>7</a>\u001b[0m \u001b[39mself\u001b[39m\u001b[39m.\u001b[39m학번 \u001b[39m=\u001b[39m \u001b[39mself\u001b[39;49m\u001b[39m.\u001b[39;49mid(과정명)\n",
      "\u001b[1;31mTypeError\u001b[0m: Aiffel.id() takes 1 positional argument but 2 were given"
     ]
    }
   ],
   "source": [
    "\n",
    "class Aiffel: #아이펠클래스 만들기\n",
    "    def __init__(self,이름,입학연도,기수,과정명):\n",
    "        self.이름 = 이름\n",
    "        self.입학연도 = 입학연도[-2:]\n",
    "        self.기수= 기수\n",
    "        self.과정명 = 과정명\n",
    "        self.학번 = self.id(과정명)\n",
    "    def id(self):\n",
    "        num = 1\n",
    "        for x in self.이름:\n",
    "            self.이름[x] = num\n",
    "            num+=1\n",
    "        print(f'{self.입학연도}{self.기수}{self.과정명}{self.이름}')\n",
    "dic명단 = {'강영현': 0, '김경민':0, '김민기': 0, '김승순': 0, '김양희': 0, '김영신':0, '오우진': 0, '윤혜윤': 0, '이상원': 0, '이선재': 0, '이슬': 0, '이승환': 0, '전민규': 0, '조보겸': 0, '조수민': 0, '최강훈': 0, '한현종': 0,\n",
    "'홍채림': 0}\n",
    "\n",
    "학번 = Aiffel(dic명단,'2023','1기',input('코어는1,리서치는2를입력하세요:'))"
   ]
  },
  {
   "cell_type": "code",
   "execution_count": 30,
   "metadata": {},
   "outputs": [
    {
     "name": "stdout",
     "output_type": "stream",
     "text": [
      "{'강영현': '2329201', '김경민': '2329202', '김민기': '2329203', '김승순': '2329204', '김양희': '2329205', '김영신': '2329206', '오우진': '2329207', '윤혜윤': '2329208', '이상원': '2329209', '이선재': '2329210', '이슬': '2329211', '이승환': '2329212', '전민규': '2329213', '조보겸': '2329214', '조수민': '2329215', '최강훈': '2329216', '한현종': '2329217', '홍채림': '2329218'}\n",
      "18\n",
      "퀘스트점수1가 입력되었습니다.\n",
      "잔여점수는 1입니다\n"
     ]
    },
    {
     "ename": "AssertionError",
     "evalue": "axis must be a MultiIndex",
     "output_type": "error",
     "traceback": [
      "\u001b[1;31m---------------------------------------------------------------------------\u001b[0m",
      "\u001b[1;31mAssertionError\u001b[0m                            Traceback (most recent call last)",
      "\u001b[1;32m~\\AppData\\Local\\Temp\\ipykernel_42108\\4020775682.py\u001b[0m in \u001b[0;36m?\u001b[1;34m()\u001b[0m\n\u001b[0;32m     59\u001b[0m \u001b[0maiffel\u001b[0m\u001b[1;33m.\u001b[0m\u001b[0mscore\u001b[0m\u001b[1;33m(\u001b[0m\u001b[1;33m)\u001b[0m\u001b[1;33m\u001b[0m\u001b[1;33m\u001b[0m\u001b[0m\n\u001b[0;32m     60\u001b[0m \u001b[0maiffel\u001b[0m\u001b[1;33m.\u001b[0m\u001b[0mpenalty\u001b[0m\u001b[1;33m(\u001b[0m\u001b[1;33m)\u001b[0m\u001b[1;33m\u001b[0m\u001b[1;33m\u001b[0m\u001b[0m\n\u001b[0;32m     61\u001b[0m \u001b[0maiffel\u001b[0m\u001b[1;33m.\u001b[0m\u001b[0mdisplay_info\u001b[0m\u001b[1;33m(\u001b[0m\u001b[1;33m)\u001b[0m\u001b[1;33m\u001b[0m\u001b[1;33m\u001b[0m\u001b[0m\n\u001b[0;32m     62\u001b[0m \u001b[0mdf1\u001b[0m \u001b[1;33m=\u001b[0m \u001b[0mpd\u001b[0m\u001b[1;33m.\u001b[0m\u001b[0mread_csv\u001b[0m\u001b[1;33m(\u001b[0m\u001b[1;34m\"new_core_list.csv\"\u001b[0m\u001b[1;33m)\u001b[0m\u001b[1;33m\u001b[0m\u001b[1;33m\u001b[0m\u001b[0m\n\u001b[1;32m---> 63\u001b[1;33m \u001b[0mdf2\u001b[0m \u001b[1;33m=\u001b[0m \u001b[0mdf1\u001b[0m\u001b[1;33m.\u001b[0m\u001b[0mdrop\u001b[0m\u001b[1;33m(\u001b[0m\u001b[1;33m[\u001b[0m\u001b[1;36m1\u001b[0m\u001b[1;33m]\u001b[0m\u001b[1;33m,\u001b[0m\u001b[0maxis\u001b[0m \u001b[1;33m=\u001b[0m \u001b[1;36m0\u001b[0m\u001b[1;33m,\u001b[0m \u001b[0mlevel\u001b[0m \u001b[1;33m=\u001b[0m \u001b[1;36m0\u001b[0m\u001b[1;33m)\u001b[0m\u001b[1;33m\u001b[0m\u001b[1;33m\u001b[0m\u001b[0m\n\u001b[0m",
      "\u001b[1;32mc:\\Users\\jbsb1\\miniconda3\\envs\\study\\Lib\\site-packages\\pandas\\core\\frame.py\u001b[0m in \u001b[0;36m?\u001b[1;34m(self, labels, axis, index, columns, level, inplace, errors)\u001b[0m\n\u001b[0;32m   5343\u001b[0m                 \u001b[0mweight\u001b[0m  \u001b[1;36m250.0\u001b[0m   \u001b[1;36m150.0\u001b[0m\u001b[1;33m\u001b[0m\u001b[1;33m\u001b[0m\u001b[0m\n\u001b[0;32m   5344\u001b[0m         \u001b[0mfalcon\u001b[0m  \u001b[0mspeed\u001b[0m   \u001b[1;36m320.0\u001b[0m   \u001b[1;36m250.0\u001b[0m\u001b[1;33m\u001b[0m\u001b[1;33m\u001b[0m\u001b[0m\n\u001b[0;32m   5345\u001b[0m                 \u001b[0mweight\u001b[0m  \u001b[1;36m1.0\u001b[0m     \u001b[1;36m0.8\u001b[0m\u001b[1;33m\u001b[0m\u001b[1;33m\u001b[0m\u001b[0m\n\u001b[0;32m   5346\u001b[0m         \"\"\"\n\u001b[1;32m-> 5347\u001b[1;33m         return super().drop(\n\u001b[0m\u001b[0;32m   5348\u001b[0m             \u001b[0mlabels\u001b[0m\u001b[1;33m=\u001b[0m\u001b[0mlabels\u001b[0m\u001b[1;33m,\u001b[0m\u001b[1;33m\u001b[0m\u001b[1;33m\u001b[0m\u001b[0m\n\u001b[0;32m   5349\u001b[0m             \u001b[0maxis\u001b[0m\u001b[1;33m=\u001b[0m\u001b[0maxis\u001b[0m\u001b[1;33m,\u001b[0m\u001b[1;33m\u001b[0m\u001b[1;33m\u001b[0m\u001b[0m\n\u001b[0;32m   5350\u001b[0m             \u001b[0mindex\u001b[0m\u001b[1;33m=\u001b[0m\u001b[0mindex\u001b[0m\u001b[1;33m,\u001b[0m\u001b[1;33m\u001b[0m\u001b[1;33m\u001b[0m\u001b[0m\n",
      "\u001b[1;32mc:\\Users\\jbsb1\\miniconda3\\envs\\study\\Lib\\site-packages\\pandas\\core\\generic.py\u001b[0m in \u001b[0;36m?\u001b[1;34m(self, labels, axis, index, columns, level, inplace, errors)\u001b[0m\n\u001b[0;32m   4707\u001b[0m         \u001b[0mobj\u001b[0m \u001b[1;33m=\u001b[0m \u001b[0mself\u001b[0m\u001b[1;33m\u001b[0m\u001b[1;33m\u001b[0m\u001b[0m\n\u001b[0;32m   4708\u001b[0m \u001b[1;33m\u001b[0m\u001b[0m\n\u001b[0;32m   4709\u001b[0m         \u001b[1;32mfor\u001b[0m \u001b[0maxis\u001b[0m\u001b[1;33m,\u001b[0m \u001b[0mlabels\u001b[0m \u001b[1;32min\u001b[0m \u001b[0maxes\u001b[0m\u001b[1;33m.\u001b[0m\u001b[0mitems\u001b[0m\u001b[1;33m(\u001b[0m\u001b[1;33m)\u001b[0m\u001b[1;33m:\u001b[0m\u001b[1;33m\u001b[0m\u001b[1;33m\u001b[0m\u001b[0m\n\u001b[0;32m   4710\u001b[0m             \u001b[1;32mif\u001b[0m \u001b[0mlabels\u001b[0m \u001b[1;32mis\u001b[0m \u001b[1;32mnot\u001b[0m \u001b[1;32mNone\u001b[0m\u001b[1;33m:\u001b[0m\u001b[1;33m\u001b[0m\u001b[1;33m\u001b[0m\u001b[0m\n\u001b[1;32m-> 4711\u001b[1;33m                 \u001b[0mobj\u001b[0m \u001b[1;33m=\u001b[0m \u001b[0mobj\u001b[0m\u001b[1;33m.\u001b[0m\u001b[0m_drop_axis\u001b[0m\u001b[1;33m(\u001b[0m\u001b[0mlabels\u001b[0m\u001b[1;33m,\u001b[0m \u001b[0maxis\u001b[0m\u001b[1;33m,\u001b[0m \u001b[0mlevel\u001b[0m\u001b[1;33m=\u001b[0m\u001b[0mlevel\u001b[0m\u001b[1;33m,\u001b[0m \u001b[0merrors\u001b[0m\u001b[1;33m=\u001b[0m\u001b[0merrors\u001b[0m\u001b[1;33m)\u001b[0m\u001b[1;33m\u001b[0m\u001b[1;33m\u001b[0m\u001b[0m\n\u001b[0m\u001b[0;32m   4712\u001b[0m \u001b[1;33m\u001b[0m\u001b[0m\n\u001b[0;32m   4713\u001b[0m         \u001b[1;32mif\u001b[0m \u001b[0minplace\u001b[0m\u001b[1;33m:\u001b[0m\u001b[1;33m\u001b[0m\u001b[1;33m\u001b[0m\u001b[0m\n\u001b[0;32m   4714\u001b[0m             \u001b[0mself\u001b[0m\u001b[1;33m.\u001b[0m\u001b[0m_update_inplace\u001b[0m\u001b[1;33m(\u001b[0m\u001b[0mobj\u001b[0m\u001b[1;33m)\u001b[0m\u001b[1;33m\u001b[0m\u001b[1;33m\u001b[0m\u001b[0m\n",
      "\u001b[1;32mc:\\Users\\jbsb1\\miniconda3\\envs\\study\\Lib\\site-packages\\pandas\\core\\generic.py\u001b[0m in \u001b[0;36m?\u001b[1;34m(self, labels, axis, level, errors, only_slice)\u001b[0m\n\u001b[0;32m   4746\u001b[0m \u001b[1;33m\u001b[0m\u001b[0m\n\u001b[0;32m   4747\u001b[0m         \u001b[1;32mif\u001b[0m \u001b[0maxis\u001b[0m\u001b[1;33m.\u001b[0m\u001b[0mis_unique\u001b[0m\u001b[1;33m:\u001b[0m\u001b[1;33m\u001b[0m\u001b[1;33m\u001b[0m\u001b[0m\n\u001b[0;32m   4748\u001b[0m             \u001b[1;32mif\u001b[0m \u001b[0mlevel\u001b[0m \u001b[1;32mis\u001b[0m \u001b[1;32mnot\u001b[0m \u001b[1;32mNone\u001b[0m\u001b[1;33m:\u001b[0m\u001b[1;33m\u001b[0m\u001b[1;33m\u001b[0m\u001b[0m\n\u001b[0;32m   4749\u001b[0m                 \u001b[1;32mif\u001b[0m \u001b[1;32mnot\u001b[0m \u001b[0misinstance\u001b[0m\u001b[1;33m(\u001b[0m\u001b[0maxis\u001b[0m\u001b[1;33m,\u001b[0m \u001b[0mMultiIndex\u001b[0m\u001b[1;33m)\u001b[0m\u001b[1;33m:\u001b[0m\u001b[1;33m\u001b[0m\u001b[1;33m\u001b[0m\u001b[0m\n\u001b[1;32m-> 4750\u001b[1;33m                     \u001b[1;32mraise\u001b[0m \u001b[0mAssertionError\u001b[0m\u001b[1;33m(\u001b[0m\u001b[1;34m\"axis must be a MultiIndex\"\u001b[0m\u001b[1;33m)\u001b[0m\u001b[1;33m\u001b[0m\u001b[1;33m\u001b[0m\u001b[0m\n\u001b[0m\u001b[0;32m   4751\u001b[0m                 \u001b[0mnew_axis\u001b[0m \u001b[1;33m=\u001b[0m \u001b[0maxis\u001b[0m\u001b[1;33m.\u001b[0m\u001b[0mdrop\u001b[0m\u001b[1;33m(\u001b[0m\u001b[0mlabels\u001b[0m\u001b[1;33m,\u001b[0m \u001b[0mlevel\u001b[0m\u001b[1;33m=\u001b[0m\u001b[0mlevel\u001b[0m\u001b[1;33m,\u001b[0m \u001b[0merrors\u001b[0m\u001b[1;33m=\u001b[0m\u001b[0merrors\u001b[0m\u001b[1;33m)\u001b[0m\u001b[1;33m\u001b[0m\u001b[1;33m\u001b[0m\u001b[0m\n\u001b[0;32m   4752\u001b[0m             \u001b[1;32melse\u001b[0m\u001b[1;33m:\u001b[0m\u001b[1;33m\u001b[0m\u001b[1;33m\u001b[0m\u001b[0m\n\u001b[0;32m   4753\u001b[0m                 \u001b[0mnew_axis\u001b[0m \u001b[1;33m=\u001b[0m \u001b[0maxis\u001b[0m\u001b[1;33m.\u001b[0m\u001b[0mdrop\u001b[0m\u001b[1;33m(\u001b[0m\u001b[0mlabels\u001b[0m\u001b[1;33m,\u001b[0m \u001b[0merrors\u001b[0m\u001b[1;33m=\u001b[0m\u001b[0merrors\u001b[0m\u001b[1;33m)\u001b[0m\u001b[1;33m\u001b[0m\u001b[1;33m\u001b[0m\u001b[0m\n",
      "\u001b[1;31mAssertionError\u001b[0m: axis must be a MultiIndex"
     ]
    }
   ],
   "source": [
    "import pandas as pd\n",
    "class Aiffel:\n",
    "    dic명단 = {'강영현': 0, '김경민':0, '김민기': 0, '김승순': 0, '김양희': 0, '김영신':0, '오우진': 0, '윤혜윤': 0, \n",
    "          '이상원': 0, '이선재': 0, '이슬': 0, '이승환': 0, '전민규': 0, '조보겸': 0, '조수민': 0, '최강훈': 0, \n",
    "          '한현종': 0, '홍채림': 0}\n",
    "    \n",
    "    def __init__(self, 이름, 입학연도, 기수, 과정명):\n",
    "        self.이름 = 이름\n",
    "        self.입학연도 = 입학연도[-2:]  # 연도의 마지막 두 자리까지만\n",
    "        self.기수 = str(기수)  # 기수를 문자열 덧셈으로 표현하기위해문자열로 변환\n",
    "        self.과정명 = 과정명\n",
    "        self.학번 = self.학번(과정명)\n",
    "        self.id()\n",
    "\n",
    "    def 학번(self, 과정명):\n",
    "        if 과정명 == \"리서치\":\n",
    "            과정번호 = \"1\"\n",
    "        elif 과정명 == \"코어\":\n",
    "            과정번호 = \"2\"\n",
    "        return self.입학연도 + self.기수 + 과정번호\n",
    "\n",
    "    def id(self):\n",
    "        dic명단_sorted = sorted(self.이름.keys())#딕셔너리 명단의 키값(이름)을 정렬\n",
    "        for i, name in enumerate(dic명단_sorted, 1):#enumerat를사용하여 키값에 인덱싱1부터시작\n",
    "            self.이름[name] = self.학번 + f\"{i:02d}\"#인덱싱으로 이름들을 하나씩불러온후 학번에 숫자추가\n",
    "\n",
    "    def ger_id_num(self): #Q2. Aiffel 클래스로부터 생성된 학번의 개수를 출력하는 get_id_num() 메서드를 추가하세요\n",
    "        print(len(aiffel.이름))\n",
    "    #Q3. Aiffel 클래스에 퀘스트 점수 입력을 위한 score 메서드를 추가하세요. 점수는 +1점 부터 +3점까지만 가능합니다.\n",
    "    def score(self):\n",
    "        self.퀘스트점수 = int(input('퀘스트점수를 입력하세요: '))\n",
    "        if self.퀘스트점수 <1 and self.퀘스트점수 >3:\n",
    "            print('퀘스트점수를 잘못입력하셨습니다')\n",
    "        else: print(f'퀘스트점수{self.퀘스트점수}가 입력되었습니다.')\n",
    "    #Q4. Aiffel 클래스에 퀘스트 점수 차감을 위한 penalty 메서드를 추가하세요. penalty로 인한 잔여 점수는 음수가가능합니다\n",
    "    def penalty(self):\n",
    "        self.penalty = int(input('penalty점수를 입력하세요: '))\n",
    "        self.잔여점수 = self.퀘스트점수 - self.penalty\n",
    "        print(f'잔여점수는 {self.잔여점수}입니다')\n",
    "# #Q5. Aiffel 인스턴스에 저장된 정보를 출력하는 display_info() 메서드를 추가하세요. 해당 메서드를 호출하면 이름,\n",
    "# 학번, 과정종류, 퀘스트 점수 총점, 퀘스트 입력 총점, 퀘스트 penalty 총합이 새로운 코어 명단(csv파일)로\n",
    "# 출력되어야 합니다.\n",
    "    def  display_info(self):\n",
    "        data = {\"이름\": list(self.이름.keys()),\n",
    "                \"학번\": list(self.이름.values()),\n",
    "                \"과정종류\": [self.과정명]*len(self.이름),\n",
    "                \"퀘스트 점수 총점\": [0]*len(self.이름),\n",
    "                \"퀘스트 입력 총점\": [0]*len(self.이름),\n",
    "                \"퀘스트 penalty 총합\": [0]*len(self.이름)}\n",
    "        df = pd.DataFrame(data)\n",
    "        df.to_csv(\"new_core_list.csv\", index=False, encoding=\"utf-8-sig\")\n",
    "        #Q6. 중도포기자를 관리하기 위해 그루 정보를 삭제하는 메서드를 추가해보세요. 해당 메서드를 호출하면 명단이갱신되어야 합니다.김경민, 김영신 님을 삭제한후 갱신된 명단을 출력하세요.\n",
    "\n",
    "\n",
    "\n",
    "\n",
    "aiffel = Aiffel(dic명단, '2023', 29, '코어')\n",
    "print(aiffel.이름)#Q1. 코어 명단(딕셔너리)을 입력받아 학번을 부여하는 초기화 메서드를 작성해보세요\n",
    "aiffel.ger_id_num()\n",
    "aiffel.score()\n",
    "aiffel.penalty()\n",
    "aiffel.display_info()\n",
    "df1 = pd.read_csv(\"new_core_list.csv\")\n",
    "df2 = df1.drop([1],axis = 0, level = 0)\n"
   ]
  }
 ],
 "metadata": {
  "kernelspec": {
   "display_name": "study",
   "language": "python",
   "name": "python3"
  },
  "language_info": {
   "codemirror_mode": {
    "name": "ipython",
    "version": 3
   },
   "file_extension": ".py",
   "mimetype": "text/x-python",
   "name": "python",
   "nbconvert_exporter": "python",
   "pygments_lexer": "ipython3",
   "version": "3.11.5"
  }
 },
 "nbformat": 4,
 "nbformat_minor": 2
}
