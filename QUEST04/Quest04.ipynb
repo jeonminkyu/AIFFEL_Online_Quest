{
  "nbformat": 4,
  "nbformat_minor": 0,
  "metadata": {
    "colab": {
      "provenance": [],
      "include_colab_link": true
    },
    "kernelspec": {
      "name": "python3",
      "display_name": "Python 3"
    },
    "language_info": {
      "name": "python"
    }
  },
  "cells": [
    {
      "cell_type": "markdown",
      "metadata": {
        "id": "view-in-github",
        "colab_type": "text"
      },
      "source": [
        "<a href=\"https://colab.research.google.com/github/jeonminkyu/AIFFEL_Online_Quest/blob/main/QUEST04/Quest04.ipynb\" target=\"_parent\"><img src=\"https://colab.research.google.com/assets/colab-badge.svg\" alt=\"Open In Colab\"/></a>"
      ]
    },
    {
      "cell_type": "markdown",
      "source": [
        "[파이썬] 퀘스트: 거북이 미로찾기\n",
        "\n",
        "난이도: ★★★☆☆\n",
        "\n",
        "장르: ColabTurtlePlus, 함수, 조건문 활용\n",
        "\n",
        "---\n",
        "\n",
        "다음은 ColabTurtle을 사용하여 미로를 찾는 문제.\n",
        "조건을 확인하여 거북이가 미로를 헤매지 않도록 출구를 찾아주도록 하자.\n",
        "\n",
        "조건 :\n",
        "미로는 5x5의 2차원 리스트로 주어진다.\n",
        "시작 위치는 (0,0)이고 목적지는 (4,4)이다.\n",
        "터틀은 상하좌우로 움직일 수 있다.\n",
        "미로 내에서 갈 수 있는 길은 0으로 표시되어 있다.\n",
        "터틀이 이미 지나간 길은 2로 표시해야한다.\n",
        "거북이가 미로를 찾아 나가면 \"미로를 찾았습니다.\",\n",
        "미로를 찾을 수 없으면 \"미로를 찾을 수 없습니다.\"가 나올 수 있도록 만들어보자!\n",
        "\n",
        "- 주석으로 구현 내용이 써있는 부분을 코드로 채워주세요!!\n",
        "- 코드를 해석해주세요 부분은 코드에 대한 설명을 주석으로 써주세요!!\n",
        "\n",
        "결과물은 다음과 같아야 합니다 :)\n",
        "\n",
        "![image.png](data:image/png;base64,iVBORw0KGgoAAAANSUhEUgAAAGkAAABpCAIAAAC24JptAAACrElEQVR4nO3dP2vqUBzG8dNLUSg46CTZzeauo27OOutLEMRJIQpxyStwFWddXBxEcHMIDiFb3BycEqIiKDikg8Pt9WpaHu6NR3g+S0P+4OHLryFtKH3L5XKCIL+evYAX9n79slwun7uOF5LP568bnDsc2+HYDsd2OLa7ValUKpXKT858/99LeS22bU8mkyAIbNvOZrPhJ3Pu/tBqtS6XSyKRqNfr357Mdr/NZrP5fC6E8H1/tVrNZrPw8+X9nu12u+v1WlXVu0cdxxFC/Nuj/X7/dDpdtw+HQ7PZtCwrZIXyzt16vd5ut5F9nGVZ+/3+657NZjMcDkMukXfuVFVVVbXT6UTzcel0+nw+f92z2+3a7Xa1Wn10ibxzFyXDMI7H43U7Foslk8nrtu/7hmE8uorthOu6mqYFQSCEqNVq0+l0PB6Xy2UhRBAEmqa5rnv3QrYTpmnG4/Fer+d53mAwKBaLhUJhNBp5ntdoND4+PkzTvHuhvPe7yJRKpcPh8Pf+VCql67qu648u5Nzh2A7Hdjh573fXp3+Zce5w8s7do59G5cG5w7Edju1wbIdjOxzb4dgOJ+/zneM4Ib9zdxwnk8l0u90ol3RD3naZTCbkaJSvMh6Rt91zZ+oneL/DsR2O7XBsh2M7HNvh2A4n7/NdOBneZnDucK86dzK8zeDc4dgOx3Y4tsOxHY7tcGyHk/f5LvzvKxaLhaIoES/pxqvOnaIo4S80IiD13D17Cd941bmTAdvh2A7Hdji2w7Edju1wbIdjOxzb4dgOx3Y4tsOxHY7tcGyHYzsc2+HYDsd2OLbDsR2O7XBsh2M7HNvh2A7Hdji2w7Edju1wbIdjOxzb4dgOx3Y4tsOxHY7tcGyHYzsc2+HYDsd2OLbDsR2O7XBsh3vj/3mHce5wbIf7BCpkq4fB2TGFAAAAAElFTkSuQmCC)"
      ],
      "metadata": {
        "id": "tSW7S0OSj6BP"
      }
    },
    {
      "cell_type": "markdown",
      "source": [
        "![image.png](data:image/png;base64,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)"
      ],
      "metadata": {
        "id": "H7VImfA5kAxG"
      }
    },
    {
      "cell_type": "code",
      "source": [
        "!pip install ColabTurtlePlus # ColabTurtle 라이브러리 설치\n",
        "from ColabTurtlePlus.Turtle import * # ColabTurtle 라이브러리에서 Turtle 클래스를 import"
      ],
      "metadata": {
        "colab": {
          "base_uri": "https://localhost:8080/"
        },
        "id": "BoZb2MBOpP6r",
        "outputId": "ceef38a5-a1ce-450a-ae0c-063a0586054d"
      },
      "execution_count": null,
      "outputs": [
        {
          "output_type": "stream",
          "name": "stdout",
          "text": [
            "Requirement already satisfied: ColabTurtlePlus in /usr/local/lib/python3.10/dist-packages (2.0.1)\n"
          ]
        }
      ]
    },
    {
      "cell_type": "code",
      "execution_count": null,
      "metadata": {
        "colab": {
          "base_uri": "https://localhost:8080/",
          "height": 231
        },
        "id": "KpoXGBK2j4xD",
        "outputId": "a5be65dc-1680-44a7-b0c3-ba3ccef73edb"
      },
      "outputs": [
        {
          "output_type": "display_data",
          "data": {
            "text/plain": [
              "<IPython.core.display.HTML object>"
            ],
            "text/html": [
              "\n",
              "      <svg width=\"100\" height=\"100\">  \n",
              "        <rect width=\"100%\" height=\"100%\" style=\"fill:white;stroke:;stroke-width:1\"/>\n",
              "        \n",
              "        \n",
              "        <line x1=\"50.0\" y1=\"50.0\" x2=\"50.0\" y2=\"50.0\" stroke-linecap=\"round\" style=\"stroke:black;stroke-width:1\" /><line x1=\"50.0\" y1=\"50.0\" x2=\"60.0\" y2=\"50.0\" stroke-linecap=\"round\" style=\"stroke:black;stroke-width:1\" /><line x1=\"60.0\" y1=\"50.0\" x2=\"60.0\" y2=\"40.0\" stroke-linecap=\"round\" style=\"stroke:black;stroke-width:1\" /><line x1=\"60.0\" y1=\"40.0\" x2=\"60.0\" y2=\"30.0\" stroke-linecap=\"round\" style=\"stroke:black;stroke-width:1\" /><line x1=\"60.0\" y1=\"30.0\" x2=\"50.0\" y2=\"30.0\" stroke-linecap=\"round\" style=\"stroke:black;stroke-width:1\" /><line x1=\"50.0\" y1=\"30.0\" x2=\"50.0\" y2=\"20.0\" stroke-linecap=\"round\" style=\"stroke:black;stroke-width:1\" /><line x1=\"50.0\" y1=\"20.0\" x2=\"50.0\" y2=\"10.0\" stroke-linecap=\"round\" style=\"stroke:black;stroke-width:1\" /><line x1=\"50.0\" y1=\"10.0\" x2=\"60.0\" y2=\"10.0\" stroke-linecap=\"round\" style=\"stroke:black;stroke-width:1\" /><line x1=\"60.0\" y1=\"10.0\" x2=\"70.0\" y2=\"10.0\" stroke-linecap=\"round\" style=\"stroke:black;stroke-width:1\" /><line x1=\"70.0\" y1=\"10.0\" x2=\"80.0\" y2=\"10.0\" stroke-linecap=\"round\" style=\"stroke:black;stroke-width:1\" /><line x1=\"80.0\" y1=\"10.0\" x2=\"90.0\" y2=\"10.0\" stroke-linecap=\"round\" style=\"stroke:black;stroke-width:1\" />\n",
              "        \n",
              "        \n",
              "        <g id=\"classic\" visibility=\"visible\" transform=\"rotate(-180.0,90.0,10.0) translate(90.0, 10.0)\">\n",
              "<polygon points=\"-5,-4.5 0,-2.5 5,-4.5 0,4.5\" transform=\"skewX(0) scale(1,1)\" style=\"stroke:black;fill:black;stroke-width:1\" />\n",
              "</g>\n",
              "      </svg>\n",
              "    "
            ]
          },
          "metadata": {}
        },
        {
          "output_type": "stream",
          "name": "stdout",
          "text": [
            "미로를 찾았습니다\n",
            "[[0, 1, 2, 2, 2],\n",
            " [2, 2, 2, 1, 2],\n",
            " [0, 1, 1, 0, 2],\n",
            " [0, 0, 1, 1, 2],\n",
            " [0, 0, 0, 0, 2]]\n"
          ]
        }
      ],
      "source": [
        "# 미로 데이터\n",
        "maze = [\n",
        "    [0, 1, 0, 0, 0],\n",
        "    [0, 0, 0, 1, 0],\n",
        "    [0, 1, 1, 0, 0],\n",
        "    [0, 0, 1, 1, 0],\n",
        "    [0, 0, 0, 0, 0]\n",
        "]\n",
        "\n",
        "# 시작 위치와 목적지 위치\n",
        "start_x, start_y = 0, 0\n",
        "end_x, end_y = 4, 4\n",
        "\n",
        "# 터틀 초기 설정\n",
        "window = (100, 100)\n",
        "initializeTurtle(window, 'logo')\n",
        "speed(1)\n",
        "\n",
        "# 미로 찾기 알고리즘\n",
        "def solve_maze(x, y):\n",
        "  # 목적지에 도착한 경우\n",
        "    if x == end_x and y == end_y:\n",
        "    # \"미로를 찾았습니다\" 라는 문장을 출력하고\n",
        "        print(\"미로를 찾았습니다\")\n",
        "    # True를 반환한다.\n",
        "        return True\n",
        "\n",
        "  # 현재 위치에서 갈 수 있는 방향 탐색\n",
        "    for dx, dy in [(0, 1), (1, 0), (0, -1), (-1, 0)]:\n",
        "      nx, ny = x + dx, y + dy\n",
        "\n",
        "      # 미로 범위(0,0 ~ 4,4) 내에 있고, 갈 수 있는 길인 경우\n",
        "      if 0 <= nx < len(maze) and 0 <= ny < len(maze[0]) and maze[nx][ny] == 0: # if 를 왜썼나? 문제가 경우라고 나와 있어서\n",
        "      # start_x 가 x고 그것이 0이기에 처음에 x를 넣었는데 길을 찾을수없다고하여, 시작범위인 0을 넣었더니 실행이 되었음\n",
        "      # len()이라는 것을 쓴 이유는 결국 x가 행 y가 열이기 때문에 이것들의 총 요소 갯수를 이용해서 nx의 범위를 지정하였음\n",
        "      # maze[nx][ny] == 0 을 쓴 이유는 이 행열 안에있는 요소가 0일때가 길이기 때문에\n",
        "          # 갔던 길 표시\n",
        "          maze[nx][ny] = 2\n",
        "          # 갔던길은 2로 표시를 해야 하기 때문에\n",
        "          pendown()\n",
        "          # 선그리기를 한다고 합니다.\n",
        "\n",
        "          # 다음 위치로 이동\n",
        "          goto(nx*10, ny*10)\n",
        "          # 거북이 다음 위치로 이동 # 픽셀이 window(100, 100) 이라는 것으로 지정되어있고\n",
        "          #그것에 (10, 10) 만큼씩 움직이게 해주는거 입니다. nx 좌표와 ny 좌표로 이동하는데 그 이동범위가 (10, 10) 입니다.\n",
        "          penup() # 선을 없앤다고 합니다.\n",
        "          # 코드를 해석해주세요!!\n",
        "          if solve_maze(nx, ny):\n",
        "              return True\n",
        "          else:\n",
        "              # 다시 이전으로 돌아가기\n",
        "              goto(x*10, y*10) # nx, ny는 x + dx, y+ dy 이니까 이동하기전인 좌표로 다시 돌아가게 하기위해 x와 y값으로 좌표를 지정\n",
        "              # 표시된 길 0표시(지우기)\n",
        "              maze[nx][ny] = 0 # 위에 함수가 실행되지않으면 결국 선그리기 라는 pendown 자체가 실행되지않아서 선이 없을 것이다 라고 생각을해서\n",
        "              # 별도로 penup() 는 사용하지 않았습니다. 만약에 위에가 실행되었다해도 penup()으로 끝났기때문에 아마 선그리기가 없어서 선은 안생길거라고 또 다른 생각을 했습니다.\n",
        "      # 길을 찾지 못한 경우\n",
        "    else:\n",
        "      # \"길을 찾을 수 없습니다\"를 출력하고\n",
        "      # False를 리턴\n",
        "      print(\"길을 찾을 수 없습니다.\")\n",
        "      return False\n",
        "      # 처음에 0 <= nx < len(maze) 부분의 else 인줄알았는데 미로 자체를 찾을수 없다는 것에 대한 것이라고 생각하여\n",
        "      # 바깥 if문의 else로 사용하였습니다. 그랬더니 해결이 되었네요\n",
        "# 시작 위치에서 미로 찾기 시작\n",
        "goto(start_x, start_y)\n",
        "solve_maze(start_x, start_y)\n",
        "import pprint\n",
        "pprint.pprint(maze)"
      ]
    },
    {
      "cell_type": "markdown",
      "source": [
        "---\n",
        "**K** : 자료를 이해하고 조사하는것을 먼저한게 좀 잘한 것 같다.\n",
        "\n",
        "**P** : 들여쓰기를 잘못했다던가, 생각한 것보다 구글링을 더 중시했던것 같아요\n",
        "\n",
        "**T** : 제시된 가이드 코드에 대해 더 집중적으로 생각하여, 어느부분에 코드 들여쓰기를 해야 하는지를 재 탐색 했고,구글링을 한 결과들로 생각을 해내서 값을 도출해냈다."
      ],
      "metadata": {
        "id": "XijajtGF9BYt"
      }
    }
  ]
}